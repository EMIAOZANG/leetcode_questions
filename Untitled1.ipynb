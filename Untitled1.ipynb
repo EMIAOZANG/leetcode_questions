{
 "cells": [
  {
   "cell_type": "code",
   "execution_count": 2,
   "metadata": {
    "collapsed": true
   },
   "outputs": [],
   "source": [
    "require 'nn';"
   ]
  },
  {
   "cell_type": "code",
   "execution_count": 3,
   "metadata": {
    "collapsed": true
   },
   "outputs": [],
   "source": [
    "map = torch.Tensor(5,5)"
   ]
  },
  {
   "cell_type": "code",
   "execution_count": 4,
   "metadata": {
    "collapsed": false
   },
   "outputs": [
    {
     "data": {
      "text/plain": [
       "-1.2882e-231 -1.2882e-231   1.8555e-51   3.1159e-32   1.1782e-47\n",
       " 1.6157e+160   2.0030e-76  2.7918e+179   0.0000e+00  6.9534e-309\n",
       " 6.9499e-310  3.1620e-322   0.0000e+00   0.0000e+00   5.8666e-62\n",
       "  6.5901e-66   1.9186e-76   1.8555e-51   3.1159e-32   1.1782e-47\n",
       " 1.6157e+160   2.0030e-76  2.7918e+179   1.6469e-66 -1.2882e-231\n",
       "[torch.DoubleTensor of size 5x5]\n",
       "\n"
      ]
     },
     "execution_count": 4,
     "metadata": {},
     "output_type": "execute_result"
    }
   ],
   "source": [
    "map"
   ]
  },
  {
   "cell_type": "code",
   "execution_count": null,
   "metadata": {
    "collapsed": true
   },
   "outputs": [],
   "source": [
    "map = {}"
   ]
  }
 ],
 "metadata": {
  "kernelspec": {
   "display_name": "iTorch",
   "language": "lua",
   "name": "itorch"
  },
  "language_info": {
   "name": "lua",
   "version": "20100"
  }
 },
 "nbformat": 4,
 "nbformat_minor": 0
}
